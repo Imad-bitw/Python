{
  "cells": [
    {
      "cell_type": "markdown",
      "metadata": {
        "id": "oIzfpZjiCIXz"
      },
      "source": [
        "Ecrire une fonction qui renvoie la puissance d’un nombre $X^n$"
      ]
    },
    {
      "cell_type": "code",
      "execution_count": null,
      "metadata": {
        "id": "f5p_MV1s-kX2"
      },
      "outputs": [],
      "source": [
        "5x=1\n",
        "a=int (input(\"a :\"))\n",
        "n=int (input(\"n :\"))\n",
        "for i in range(n):\n",
        "  x=x*a\n",
        "print(x)"
      ]
    },
    {
      "cell_type": "markdown",
      "metadata": {
        "id": "eEO-0z3-CUXr"
      },
      "source": [
        "Ecrire une fonction python qui calcul la factorielle d’un nombre donné $n!$"
      ]
    },
    {
      "cell_type": "code",
      "execution_count": null,
      "metadata": {
        "id": "atNSptKIACWZ"
      },
      "outputs": [],
      "source": [
        "v = int(input(\" tape une valeur :\"))\n",
        "n = 1\n",
        "for i in range(1, v):\n",
        "    n = n * (i +1)\n",
        "print(n)"
      ]
    },
    {
      "cell_type": "markdown",
      "metadata": {
        "id": "uFC4CfEjEoy-"
      },
      "source": [
        "Ecrire une fonction en Python pour trouver la somme des séries $\\frac{1!}{1} + \\frac{2!}{2} + \\frac{3!}{3} +\n",
        "\\frac{4!}{4}+ \\frac{5!}{5}$ en utilisant la fonction."
      ]
    },
    {
      "cell_type": "code",
      "execution_count": null,
      "metadata": {
        "id": "fNaekhiAEeVA"
      },
      "outputs": [],
      "source": [
        "def SommedesSeries(num):\n",
        "   res = 0\n",
        "   fact = 1\n",
        "   for i in range(1, num+1):\n",
        "      fact *= i\n",
        "      res = res + (fact/ i)\n",
        "   return res\n",
        "n = 100\n",
        "print(\"Somme: \", SommedesSeries(n))"
      ]
    },
    {
      "cell_type": "markdown",
      "metadata": {
        "id": "oAxObQSfChV5"
      },
      "source": [
        "Ecrire une fonction en Python pour calculer la somme des nombres de 1 à n."
      ]
    },
    {
      "cell_type": "code",
      "execution_count": null,
      "metadata": {
        "id": "mxekPkkQ-o77"
      },
      "outputs": [],
      "source": [
        "s=0\n",
        "n=int(input(\"Tapez la valeur : \"))\n",
        "for i in range(0,n+1):\n",
        "  s=s+i\n",
        "print(\"La somme 1+2+....+n :\",s)"
      ]
    },
    {
      "cell_type": "markdown",
      "source": [
        "Ecrire une fonction en Python pour compter les chiffres d'un nombre donné"
      ],
      "metadata": {
        "id": "r5uYgSnCTx8A"
      }
    },
    {
      "cell_type": "code",
      "source": [
        "def compte(N) :\n",
        "   nb=0\n",
        "   while N!=0 :\n",
        "        N= int(N/10)\n",
        "        nb+=1\n",
        "   return nb\n",
        "N= int(input(\"Saisir un Nombre :\"))\n",
        "print(\"Nombre Totale de chiffre dans le nombre :\", N, \"est \", compte(N))"
      ],
      "metadata": {
        "id": "u92LodF8TxW4"
      },
      "execution_count": null,
      "outputs": []
    }
  ],
  "metadata": {
    "colab": {
      "provenance": []
    },
    "kernelspec": {
      "display_name": "Python 3",
      "name": "python3"
    },
    "language_info": {
      "name": "python"
    }
  },
  "nbformat": 4,
  "nbformat_minor": 0
}